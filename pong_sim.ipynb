{
  "nbformat": 4,
  "nbformat_minor": 0,
  "metadata": {
    "colab": {
      "name": "pong_sim.ipynb",
      "provenance": [],
      "collapsed_sections": [],
      "include_colab_link": true
    },
    "kernelspec": {
      "name": "python3",
      "display_name": "Python 3"
    },
    "accelerator": "TPU"
  },
  "cells": [
    {
      "cell_type": "markdown",
      "metadata": {
        "id": "view-in-github",
        "colab_type": "text"
      },
      "source": [
        "<a href=\"https://colab.research.google.com/github/ellastewart/PongReinforcement/blob/lr%2Fsetup-players-to-train-against-random/pong_sim.ipynb\" target=\"_parent\"><img src=\"https://colab.research.google.com/assets/colab-badge.svg\" alt=\"Open In Colab\"/></a>"
      ]
    },
    {
      "cell_type": "code",
      "metadata": {
        "id": "ry5zPGhw0Kit",
        "colab_type": "code",
        "colab": {}
      },
      "source": [
        "import numpy as np\n",
        "\n",
        "from pong_player import Human, AI, Random\n",
        "from pong_game import Game"
      ],
      "execution_count": 0,
      "outputs": []
    },
    {
      "cell_type": "code",
      "metadata": {
        "id": "CaQlAXYzUhZa",
        "colab_type": "code",
        "colab": {}
      },
      "source": [
        "def write_qtable(player, width, height):\n",
        "    with open('qtable.txt', 'w+') as f:\n",
        "        f.write(str(player.alpha) + '\\n')\n",
        "        f.write(str(player.gamma) + '\\n')\n",
        "        for x in range(width):\n",
        "            for y in range(height):\n",
        "                for idx in range(5):  # Number of paddle positions\n",
        "                    for a in range(3):  # Number of possible actions\n",
        "                        f.write(str(player.qtable[x, y, idx, a]) + '\\n')\n",
        "\n",
        "\n",
        "def get_qtable(player, name, width, height):\n",
        "    qtable = None\n",
        "    with open('qtable.txt', 'r') as f:\n",
        "        qtable = f.readlines()\n",
        "    qtableIter = iter(qtable)\n",
        "    player.alpha = float(next(qtableIter))\n",
        "    player.gamma = float(next(qtableIter))\n",
        "    for x in range(width):\n",
        "        for y in range(height):\n",
        "            for idx in range(5):  # Number of paddle positions\n",
        "                for a in range(3):  # Number of possible actions\n",
        "                    if name == 'Player 1':\n",
        "                        player.qtable[x, y, idx, a] = float(next(qtableIter))\n",
        "                    else:\n",
        "                        x_flip = 14 - x  # Flip the table for Player 2\n",
        "                        player.qtable[x_flip, y, idx, a] =\\\n",
        "                            float(next(qtableIter))"
      ],
      "execution_count": 0,
      "outputs": []
    },
    {
      "cell_type": "code",
      "metadata": {
        "id": "1CNOPT4yUXaq",
        "colab_type": "code",
        "colab": {}
      },
      "source": [
        "# Mode 0\n",
        "def train_and_play_mode(p1_type, p2_type, watch, train, width, height):\n",
        "    # Algorithm Parameters alpha, epsilon, gamma\n",
        "    alpha1 = 0.5\n",
        "    epsilon1 = 0.01\n",
        "    gamma1 = 0.8\n",
        "    alpha2 = 0.5\n",
        "    epsilon2 = 0.1\n",
        "    gamma2 = 0.8\n",
        "    if p1_type == 'AI':\n",
        "        p1 = AI('Player 1', alpha1, epsilon1, gamma1, width, height, watch)\n",
        "    elif p1_type == 'Human':\n",
        "        p1 = Human('Player 1')\n",
        "    else:\n",
        "        print('Invalid selection for P1')\n",
        "        return\n",
        "    if p2_type == 'AI':\n",
        "        p2 = AI('Player 2', alpha2, epsilon2, gamma2, width, height, watch)\n",
        "        # p2 = Random('Player 2', watch)\n",
        "    elif p2_type == 'Human':\n",
        "        p2 = Human('Player 2')\n",
        "    else:\n",
        "        print('Invalid selection for P2')\n",
        "        return\n",
        "    rando = Random('Player 2', watch)\n",
        "    # Loop for each episode\n",
        "    for i in range(train):\n",
        "        game = Game(width, height, p1, rando)\n",
        "        game.playGame()\n",
        "    print('P1 Wins: {}\\nRando Wins: {}'.format(p1.wins, rando.wins))\n",
        "    rando.name = 'Player 1'\n",
        "    rando.wins = 0\n",
        "    # Loop for each episode\n",
        "    for i in range(train):\n",
        "        game = Game(width, height, rando, p2)\n",
        "        game.playGame()\n",
        "    print('P2 Wins: {}\\nRando Wins: {}'.format(p2.wins, rando.wins))\n",
        "\n",
        "    # Watch a game after they have been fully trained\n",
        "    p1.epsilon = -1\n",
        "    p2.epsilon = -1\n",
        "    p1.watch = True\n",
        "    p2.watch = True\n",
        "    input(\"Are you ready, kids?\")\n",
        "    for _ in range(5):\n",
        "        game = Game(width, height, p1, p2)\n",
        "        game.playGame()"
      ],
      "execution_count": 0,
      "outputs": []
    },
    {
      "cell_type": "code",
      "metadata": {
        "id": "aH10rG7fUeJv",
        "colab_type": "code",
        "colab": {}
      },
      "source": [
        "# Mode 1\n",
        "def tune_mode(train, width, height):\n",
        "    # Algorithm Parameters alpha, epsilon, gamma\n",
        "    alphas = np.linspace(0.1, 1, 36, endpoint=False)\n",
        "    epsilons = np.linspace(0.005, 0.05, 10)\n",
        "    gammas = np.linspace(0.1, 1, 36, endpoint=False)\n",
        "    most_wins = 0\n",
        "    best_alpha = None\n",
        "    best_epsilon = None\n",
        "    best_gamma = None\n",
        "    rando = Random('Player 2', False)\n",
        "    for alpha in alphas:\n",
        "        for epsilon in epsilons:\n",
        "            for gamma in gammas:\n",
        "                p1 = AI('Player 1', alpha, epsilon, gamma, width, height,\n",
        "                        False)\n",
        "                # Loop for each episode\n",
        "                for i in range(train):\n",
        "                    game = Game(width, height, p1, rando)\n",
        "                    game.playGame()\n",
        "                if p1.wins > most_wins:\n",
        "                    most_wins = p1.wins\n",
        "                    best_alpha = alpha\n",
        "                    best_epsilon = epsilon\n",
        "                    best_gamma = gamma\n",
        "\n",
        "    print('Most wins ({}) with params:\\nα={}\\nε={}\\nγ={}'.format(most_wins,\n",
        "                                                                 best_alpha,\n",
        "                                                                 best_epsilon,\n",
        "                                                                 best_gamma))"
      ],
      "execution_count": 0,
      "outputs": []
    },
    {
      "cell_type": "code",
      "metadata": {
        "id": "u9OdVNBNUyiD",
        "colab_type": "code",
        "colab": {}
      },
      "source": [
        "# Mode 2\n",
        "def train_and_save_mode(train, width, height):\n",
        "    alpha = 0.7\n",
        "    epsilon = 0.01\n",
        "    gamma = 0.7\n",
        "    p1 = AI('Player 1', alpha, epsilon, gamma, width, height, False)\n",
        "    rando = Random('Player 2', False)\n",
        "    # Loop for each episode\n",
        "    for i in range(train):\n",
        "        game = Game(width, height, p1, rando)\n",
        "        game.playGame()\n",
        "    write_qtable(p1, width, height)"
      ],
      "execution_count": 0,
      "outputs": []
    },
    {
      "cell_type": "code",
      "metadata": {
        "id": "iDACiMWEUnh4",
        "colab_type": "code",
        "colab": {}
      },
      "source": [
        "# Mode 3\n",
        "def play_mode(p1_type, p2_type, width, height):\n",
        "    if p1_type == 'AI':\n",
        "        p1 = AI('Player 1', 0, -1, 0, width, height, True)\n",
        "    elif p1_type == 'Human':\n",
        "        p1 = Human('Player 1')\n",
        "    else:\n",
        "        print('Invalid selection for P1')\n",
        "        return\n",
        "    if p2_type == 'AI':\n",
        "        p2 = AI('Player 2', 0, -1, 0, width, height, True)\n",
        "    elif p2_type == 'Human':\n",
        "        p2 = Human('Player 2')\n",
        "    else:\n",
        "        print('Invalid selection for P2')\n",
        "        return\n",
        "    get_qtable(p1, 'Player 1', width, height)\n",
        "    get_qtable(p2, 'Player 2', width, height)\n",
        "    input(\"Are you ready, kids?\")\n",
        "    for _ in range(5):\n",
        "        game = Game(width, height, p1, p2)\n",
        "        game.playGame()"
      ],
      "execution_count": 0,
      "outputs": []
    },
    {
      "cell_type": "code",
      "metadata": {
        "id": "6gmLioVs1chf",
        "colab_type": "code",
        "colab": {}
      },
      "source": [
        "def main():\n",
        "    \"\"\"\n",
        "    Main program of the pong game. Alogrithm paramters are set here.\n",
        "    After a full training session by the AI players there will be a final game\n",
        "    played between the two of them that the users can watch and see the AI use\n",
        "    the final derived policies.\n",
        "    \"\"\"\n",
        "    width = 15\n",
        "    height = 10\n",
        "    p1_type = 'AI'\n",
        "    p2_type = 'AI'\n",
        "    watch = False\n",
        "    train = 10000\n",
        "    mode = 0\n",
        "    if mode == 0:\n",
        "        train_and_play_mode(p1_type, p2_type, watch, train, width, height)\n",
        "    elif mode == 1:\n",
        "        tune_mode(train, width, height)\n",
        "    elif mode == 2:\n",
        "        train_and_save_mode(train, width, height)\n",
        "    else:  # Mode == 3\n",
        "        play_mode(p1_type, p2_type, width, height)"
      ],
      "execution_count": 0,
      "outputs": []
    },
    {
      "cell_type": "code",
      "metadata": {
        "id": "TEU_ef2J1ffF",
        "colab_type": "code",
        "colab": {
          "base_uri": "https://localhost:8080/",
          "height": 68
        },
        "outputId": "1040f4aa-a399-41aa-8dce-ba4e1fddc40e"
      },
      "source": [
        "main()"
      ],
      "execution_count": 0,
      "outputs": [
        {
          "output_type": "stream",
          "text": [
            "0.4\n",
            "0.42500000000000004\n",
            "0.45\n"
          ],
          "name": "stdout"
        }
      ]
    }
  ]
}